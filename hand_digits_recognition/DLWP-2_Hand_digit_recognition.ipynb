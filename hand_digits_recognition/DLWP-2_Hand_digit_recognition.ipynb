{
 "cells": [
  {
   "cell_type": "code",
   "execution_count": 2,
   "metadata": {},
   "outputs": [],
   "source": [
    "import torch\n",
    "import torch.nn as nn\n",
    "import torch.nn.functional as F\n",
    "from torch.utils.data import DataLoader\n",
    "from torchvision import datasets, transforms\n",
    "from torchvision.utils import make_grid\n",
    "\n",
    "import numpy as np\n",
    "import pandas as pd\n",
    "from sklearn.metrics import confusion_matrix\n",
    "import matplotlib.pyplot as plt\n",
    "import time\n",
    "%matplotlib inline"
   ]
  },
  {
   "cell_type": "code",
   "execution_count": 90,
   "metadata": {},
   "outputs": [
    {
     "data": {
      "text/plain": [
       "(Dataset MNIST\n",
       "     Number of datapoints: 60000\n",
       "     Root location: data\n",
       "     Split: Train\n",
       "     StandardTransform\n",
       " Transform: ToTensor(),\n",
       " Dataset MNIST\n",
       "     Number of datapoints: 10000\n",
       "     Root location: data\n",
       "     Split: Test\n",
       "     StandardTransform\n",
       " Transform: ToTensor())"
      ]
     },
     "execution_count": 90,
     "metadata": {},
     "output_type": "execute_result"
    }
   ],
   "source": [
    "#convert MNIST image files into tensor of 4 dim (#images,height,width,channel)\n",
    "transform = transforms.ToTensor()\n",
    "training_data = datasets.MNIST(root='data', train=True, download=True, transform=transform)\n",
    "testing_data = datasets.MNIST(root='data', train=False, download=True, transform=transform)\n",
    "training_data, testing_data "
   ]
  },
  {
   "cell_type": "code",
   "execution_count": 98,
   "metadata": {},
   "outputs": [],
   "source": [
    "# Data Loader\n",
    "train_loader = DataLoader(training_data, batch_size=10, shuffle=True)\n",
    "test_loader = DataLoader(testing_data, batch_size=10, shuffle=False)"
   ]
  },
  {
   "cell_type": "code",
   "execution_count": 99,
   "metadata": {},
   "outputs": [
    {
     "data": {
      "text/plain": [
       "ConvNetwork(\n",
       "  (conv1): Conv2d(1, 8, kernel_size=(3, 3), stride=(1, 1))\n",
       "  (conv2): Conv2d(8, 16, kernel_size=(3, 3), stride=(1, 1))\n",
       "  (fc1): Linear(in_features=400, out_features=200, bias=True)\n",
       "  (fc2): Linear(in_features=200, out_features=100, bias=True)\n",
       "  (fc3): Linear(in_features=100, out_features=10, bias=True)\n",
       ")"
      ]
     },
     "execution_count": 99,
     "metadata": {},
     "output_type": "execute_result"
    }
   ],
   "source": [
    "class ConvNetwork(nn.Module):\n",
    "    def __init__(self):\n",
    "        super().__init__()\n",
    "        self.conv1 = nn.Conv2d(in_channels=1, out_channels=8, kernel_size=3, stride=1)\n",
    "        self.conv2 = nn.Conv2d(in_channels=8, out_channels=16, kernel_size=3, stride=1)\n",
    "        self.fc1 = nn.Linear(5*5*16, 200)\n",
    "        self.fc2 = nn.Linear(200, 100)\n",
    "        self.fc3 = nn.Linear(100, 10)\n",
    "        \n",
    "    def forward(self, X):\n",
    "        # conv1\n",
    "        X = F.relu(self.conv1(X))\n",
    "        X = F.max_pool2d(X, 2, 2)\n",
    "        # conv2\n",
    "        X = F.relu(self.conv2(X))\n",
    "        X = F.max_pool2d(X, 2, 2)\n",
    "        # flatten\n",
    "        X = X.view(-1, 5*5*16)\n",
    "        # fully connected layers\n",
    "        X = F.relu(self.fc1(X))\n",
    "        X = F.relu(self.fc2(X))\n",
    "        X = self.fc3(X)\n",
    "        return F.log_softmax(X, dim=1)\n",
    "\n",
    "torch.manual_seed(69)\n",
    "model = ConvNetwork()\n",
    "model.eval()"
   ]
  },
  {
   "cell_type": "code",
   "execution_count": 100,
   "metadata": {},
   "outputs": [],
   "source": [
    "# loss function optimizer\n",
    "criterion = nn.CrossEntropyLoss()\n",
    "optimizer = torch.optim.Adam(model.parameters(), lr=0.01)"
   ]
  },
  {
   "cell_type": "code",
   "execution_count": 101,
   "metadata": {},
   "outputs": [
    {
     "name": "stdout",
     "output_type": "stream",
     "text": [
      "============ Epoch 1 ============\n",
      "Batch: 600 \t Loss: 0.508807\n",
      "Batch: 1200 \t Loss: 0.052823\n",
      "Batch: 1800 \t Loss: 0.271041\n",
      "Batch: 2400 \t Loss: 0.037797\n",
      "Batch: 3000 \t Loss: 0.066453\n",
      "Batch: 3600 \t Loss: 0.456081\n",
      "Batch: 4200 \t Loss: 0.094370\n",
      "Batch: 4800 \t Loss: 0.016962\n",
      "Batch: 5400 \t Loss: 0.572903\n",
      "Batch: 6000 \t Loss: 0.253359\n",
      "============ Epoch 2 ============\n",
      "Batch: 600 \t Loss: 0.072003\n",
      "Batch: 1200 \t Loss: 0.006032\n",
      "Batch: 1800 \t Loss: 0.035783\n",
      "Batch: 2400 \t Loss: 0.196136\n",
      "Batch: 3000 \t Loss: 0.016228\n",
      "Batch: 3600 \t Loss: 0.303640\n",
      "Batch: 4200 \t Loss: 0.793881\n",
      "Batch: 4800 \t Loss: 0.083588\n",
      "Batch: 5400 \t Loss: 0.127761\n",
      "Batch: 6000 \t Loss: 0.247708\n",
      "============ Epoch 3 ============\n",
      "Batch: 600 \t Loss: 0.010706\n",
      "Batch: 1200 \t Loss: 0.193535\n",
      "Batch: 1800 \t Loss: 0.004234\n",
      "Batch: 2400 \t Loss: 0.013917\n",
      "Batch: 3000 \t Loss: 0.255019\n",
      "Batch: 3600 \t Loss: 0.160301\n",
      "Batch: 4200 \t Loss: 1.001816\n",
      "Batch: 4800 \t Loss: 0.020055\n",
      "Batch: 5400 \t Loss: 0.155570\n",
      "Batch: 6000 \t Loss: 0.918099\n",
      "============ Epoch 4 ============\n",
      "Batch: 600 \t Loss: 0.174890\n",
      "Batch: 1200 \t Loss: 0.233602\n",
      "Batch: 1800 \t Loss: 0.352594\n",
      "Batch: 2400 \t Loss: 0.054054\n",
      "Batch: 3000 \t Loss: 0.039981\n",
      "Batch: 3600 \t Loss: 0.013683\n",
      "Batch: 4200 \t Loss: 0.036300\n",
      "Batch: 4800 \t Loss: 0.244414\n",
      "Batch: 5400 \t Loss: 0.087888\n",
      "Batch: 6000 \t Loss: 0.679553\n",
      "============ Epoch 5 ============\n",
      "Batch: 600 \t Loss: 0.093245\n",
      "Batch: 1200 \t Loss: 0.006925\n",
      "Batch: 1800 \t Loss: 0.029048\n",
      "Batch: 2400 \t Loss: 0.021055\n",
      "Batch: 3000 \t Loss: 0.249475\n",
      "Batch: 3600 \t Loss: 0.000849\n",
      "Batch: 4200 \t Loss: 0.265165\n",
      "Batch: 4800 \t Loss: 0.028325\n",
      "Batch: 5400 \t Loss: 0.388482\n",
      "Batch: 6000 \t Loss: 0.002661\n",
      "training took: 6.529070893923442 minutes\n"
     ]
    }
   ],
   "source": [
    "start_time = time.time()\n",
    "\n",
    "epochs = 5\n",
    "train_losses = []\n",
    "test_losses = []\n",
    "train_correct = []\n",
    "test_correct = []\n",
    "\n",
    "#epoch loops\n",
    "for i in range(epochs):\n",
    "    train_ok_count = 0\n",
    "    test_ok_count = 0\n",
    "    \n",
    "    print(f'{\"=\" * 12} Epoch {i+1} {\"=\" * 12}')\n",
    "    #Train\n",
    "    for j, (X_train, Y_train) in enumerate(train_loader):\n",
    "        j+=1\n",
    "        Y_predicted = model(X_train)\n",
    "        predicted = torch.max(Y_predicted.data, 1)[1]\n",
    "        loss = criterion(Y_predicted, Y_train)\n",
    "        train_ok_count += (predicted == Y_train).sum()\n",
    "        \n",
    "        #update params\n",
    "        loss.backward()\n",
    "        optimizer.step()\n",
    "        optimizer.zero_grad()\n",
    "        \n",
    "        #print out result\n",
    "        if j%600 == 0:\n",
    "            print(f'Batch: {j} \\t Loss: {loss.item():>5f}')\n",
    "            \n",
    "    train_losses.append(loss)\n",
    "    train_correct.append(train_ok_count)\n",
    "    \n",
    "    #test\n",
    "    with torch.no_grad():\n",
    "        for j, (X_test, Y_test) in enumerate(train_loader):\n",
    "            Y_predicted = model(X_test)\n",
    "            predicted = torch.max(Y_predicted.data, 1)[1]\n",
    "            test_ok_count += (predicted == Y_test).sum()\n",
    "            loss = criterion(Y_predicted, Y_test)\n",
    "    test_losses.append(loss)\n",
    "    test_correct.append(test_ok_count)\n",
    "    \n",
    "current_time = time.time()\n",
    "\n",
    "total_time = current_time - start_time\n",
    "print(f'training took: {total_time/60} minutes')"
   ]
  },
  {
   "cell_type": "code",
   "execution_count": 102,
   "metadata": {},
   "outputs": [
    {
     "data": {
      "text/plain": [
       "<matplotlib.legend.Legend at 0x2384ffd0b50>"
      ]
     },
     "execution_count": 102,
     "metadata": {},
     "output_type": "execute_result"
    },
    {
     "data": {
      "image/png": "[encoded data removed]",
      "text/plain": [
       "<Figure size 640x480 with 1 Axes>"
      ]
     },
     "metadata": {},
     "output_type": "display_data"
    }
   ],
   "source": [
    "train_losses = [tl.item() for tl in train_losses]\n",
    "plt.plot(train_losses, label='Training loss')\n",
    "plt.plot(test_losses, label='Test loss')\n",
    "plt.title('Loss at Epoch')\n",
    "plt.legend()"
   ]
  },
  {
   "cell_type": "code",
   "execution_count": 103,
   "metadata": {},
   "outputs": [
    {
     "data": {
      "text/plain": [
       "<matplotlib.legend.Legend at 0x23850b81250>"
      ]
     },
     "execution_count": 103,
     "metadata": {},
     "output_type": "execute_result"
    },
    {
     "data": {
      "image/png": "[encoded data removed]",
      "text/plain": [
       "<Figure size 640x480 with 1 Axes>"
      ]
     },
     "metadata": {},
     "output_type": "display_data"
    }
   ],
   "source": [
    "#Accuracy graph\n",
    "plt.plot([t/600 for t in train_correct], label='Training Accuracy')\n",
    "plt.plot([t/600 for t in test_correct], label='Testing Accuracy')\n",
    "plt.title('Accuracy per Epoch')\n",
    "plt.legend()"
   ]
  },
  {
   "cell_type": "code",
   "execution_count": 104,
   "metadata": {},
   "outputs": [
    {
     "name": "stdout",
     "output_type": "stream",
     "text": [
      "Correct prdictions: 94.89999999999999%\n"
     ]
    }
   ],
   "source": [
    "test_load_everything = DataLoader(testing_data, batch_size=10000, shuffle=False)\n",
    "with torch.no_grad():\n",
    "    correct =0\n",
    "    for X_test, Y_test in test_load_everything:\n",
    "        Y_predicted = model(X_test)\n",
    "        predicted = torch.max(Y_predicted, 1)[1]\n",
    "        correct += (predicted == Y_test).sum()\n",
    "\n",
    "print(f'Correct prdictions: {correct.item() /len(X_test) * 100}%')"
   ]
  },
  {
   "cell_type": "code",
   "execution_count": null,
   "metadata": {},
   "outputs": [],
   "source": []
  }
 ],
 "metadata": {
  "kernelspec": {
   "display_name": "base",
   "language": "python",
   "name": "python3"
  },
  "language_info": {
   "codemirror_mode": {
    "name": "ipython",
    "version": 3
   },
   "file_extension": ".py",
   "mimetype": "text/x-python",
   "name": "python",
   "nbconvert_exporter": "python",
   "pygments_lexer": "ipython3",
   "version": "3.11.5"
  }
 },
 "nbformat": 4,
 "nbformat_minor": 2
}
