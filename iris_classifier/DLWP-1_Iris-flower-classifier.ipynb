{
 "cells": [
  {
   "cell_type": "code",
   "execution_count": 1,
   "metadata": {},
   "outputs": [],
   "source": [
    "import torch\n",
    "import torch.nn as nn\n",
    "import torch.nn.functional as F\n",
    "import pandas as pd\n",
    "import matplotlib.pyplot as plt\n",
    "from sklearn.model_selection import train_test_split\n",
    "from ipywidgets import widgets, interact\n",
    "%matplotlib inline"
   ]
  },
  {
   "cell_type": "code",
   "execution_count": 2,
   "metadata": {},
   "outputs": [],
   "source": [
    "#Model Class\n",
    "class Model(nn.Module):\n",
    "    def __init__(self, input=4, H1=8, H2=6, output=3):\n",
    "        super().__init__()\n",
    "        self.fc1 = nn.Linear(input, H1)\n",
    "        self.fc2 = nn.Linear(H1, H2)\n",
    "        self.out = nn.Linear(H2, output)\n",
    "    \n",
    "    def forward(self, X_input):\n",
    "        X_input = F.relu(self.fc1(X_input))\n",
    "        X_input = F.relu(self.fc2(X_input))\n",
    "        X_input = self.out(X_input)\n",
    "        \n",
    "        return X_input\n",
    "\n"
   ]
  },
  {
   "cell_type": "code",
   "execution_count": 3,
   "metadata": {},
   "outputs": [],
   "source": [
    "iris_dataset = 'data/iris.csv'\n",
    "iris_df = pd.read_csv(iris_dataset)\n",
    "\n",
    "#replace variety with integers !strings\n",
    "iris_df['variety'] = iris_df['variety'].replace('Iris-setosa', 0)\n",
    "iris_df['variety'] = iris_df['variety'].replace('Iris-versicolor', 1)\n",
    "iris_df['variety'] = iris_df['variety'].replace('Iris-virginica', 2)\n",
    "# iris_df"
   ]
  },
  {
   "cell_type": "code",
   "execution_count": 4,
   "metadata": {},
   "outputs": [],
   "source": [
    "# drop true output on input X\n",
    "input = iris_df.drop('variety', axis=1)\n",
    "output = iris_df['variety']\n",
    "\n",
    "#convert to np arrays\n",
    "input = input.values\n",
    "output = output.values\n",
    "\n",
    "#Train Test Split\n",
    "X_train, X_test, Y_train, Y_test = train_test_split(input, output, test_size=0.2, random_state=69)\n",
    "\n",
    "# convert features to tensors\n",
    "X_train = torch.FloatTensor(X_train)\n",
    "X_test = torch.FloatTensor(X_test)\n",
    "Y_train = torch.LongTensor(Y_train)\n",
    "Y_test = torch.LongTensor(Y_test)"
   ]
  },
  {
   "cell_type": "code",
   "execution_count": 5,
   "metadata": {},
   "outputs": [
    {
     "name": "stdout",
     "output_type": "stream",
     "text": [
      "Epoch: 0 \t Loss: 1.1341111660003662\n",
      "Epoch: 10 \t Loss: 0.9911374449729919\n",
      "Epoch: 20 \t Loss: 0.760148286819458\n",
      "Epoch: 30 \t Loss: 0.4896123707294464\n",
      "Epoch: 40 \t Loss: 0.33501094579696655\n",
      "Epoch: 50 \t Loss: 0.23244613409042358\n",
      "Epoch: 60 \t Loss: 0.16062428057193756\n",
      "Epoch: 70 \t Loss: 0.11885369569063187\n",
      "Epoch: 80 \t Loss: 0.09737487137317657\n",
      "Epoch: 90 \t Loss: 0.08558419346809387\n",
      "Epoch: 100 \t Loss: 0.07826774567365646\n",
      "Epoch: 110 \t Loss: 0.07325203716754913\n",
      "Epoch: 120 \t Loss: 0.06959864497184753\n",
      "Epoch: 130 \t Loss: 0.06681837141513824\n",
      "Epoch: 140 \t Loss: 0.06463723629713058\n",
      "Epoch: 150 \t Loss: 0.06287868320941925\n",
      "Epoch: 160 \t Loss: 0.061422981321811676\n",
      "Epoch: 170 \t Loss: 0.06019020453095436\n",
      "Epoch: 180 \t Loss: 0.05912657827138901\n",
      "Epoch: 190 \t Loss: 0.058194663375616074\n"
     ]
    },
    {
     "data": {
      "text/plain": [
       "Text(0, 0.5, 'Loss/error')"
      ]
     },
     "execution_count": 5,
     "metadata": {},
     "output_type": "execute_result"
    },
    {
     "data": {
      "image/png": "[encoded data removed]",
      "text/plain": [
       "<Figure size 640x480 with 1 Axes>"
      ]
     },
     "metadata": {},
     "output_type": "display_data"
    }
   ],
   "source": [
    "torch.manual_seed(69)\n",
    "model = Model()\n",
    "#cross entropy loss for getting error/ accuracy\n",
    "criterion = nn.CrossEntropyLoss()\n",
    "optimizer = torch.optim.Adam(model.parameters(), lr=0.01)\n",
    "epochs = 200\n",
    "losses = []\n",
    "\n",
    "#foward prop\n",
    "for i in range(epochs):\n",
    "    Y_pred = model.forward(X_train)\n",
    "    loss = criterion(Y_pred, Y_train)   #calculate loss\n",
    "    losses.append(loss.detach().numpy())  \n",
    "    \n",
    "    #print loss\n",
    "    if i % 10 == 0:\n",
    "        print(f'Epoch: {i} \\t Loss: {loss}')\n",
    "    \n",
    "    #back prop\n",
    "    optimizer.zero_grad()\n",
    "    loss.backward()\n",
    "    optimizer.step()\n",
    "\n",
    "plt.plot(range(epochs), losses)\n",
    "plt.xlabel('Epochs')\n",
    "plt.ylabel('Loss/error')"
   ]
  },
  {
   "cell_type": "code",
   "execution_count": 6,
   "metadata": {},
   "outputs": [
    {
     "name": "stdout",
     "output_type": "stream",
     "text": [
      "1 \t setosa \t setosa \t ✅\n",
      "2 \t versicolor \t versicolor \t ✅\n",
      "3 \t setosa \t setosa \t ✅\n",
      "4 \t virginica \t virginica \t ✅\n",
      "5 \t setosa \t setosa \t ✅\n",
      "6 \t setosa \t setosa \t ✅\n",
      "7 \t versicolor \t versicolor \t ✅\n",
      "8 \t virginica \t virginica \t ✅\n",
      "9 \t virginica \t virginica \t ✅\n",
      "10 \t setosa \t setosa \t ✅\n",
      "11 \t virginica \t virginica \t ✅\n",
      "12 \t virginica \t virginica \t ✅\n",
      "13 \t setosa \t setosa \t ✅\n",
      "14 \t versicolor \t versicolor \t ✅\n",
      "15 \t virginica \t virginica \t ✅\n",
      "16 \t versicolor \t versicolor \t ✅\n",
      "17 \t versicolor \t versicolor \t ✅\n",
      "18 \t virginica \t virginica \t ✅\n",
      "19 \t versicolor \t versicolor \t ✅\n",
      "20 \t virginica \t virginica \t ✅\n",
      "21 \t virginica \t virginica \t ✅\n",
      "22 \t versicolor \t versicolor \t ✅\n",
      "23 \t setosa \t setosa \t ✅\n",
      "24 \t setosa \t setosa \t ✅\n",
      "25 \t virginica \t virginica \t ✅\n",
      "26 \t setosa \t setosa \t ✅\n",
      "27 \t virginica \t virginica \t ✅\n",
      "28 \t virginica \t virginica \t ✅\n",
      "29 \t versicolor \t versicolor \t ✅\n",
      "30 \t setosa \t setosa \t ✅\n",
      "model got 30/30 correct\n"
     ]
    }
   ],
   "source": [
    "#check model accuracy\n",
    "def iris_classifier_multival(X_test):\n",
    "    correct_guess = 0\n",
    "    with torch.no_grad():\n",
    "        for i, data in enumerate(X_test):\n",
    "            Y_eval = model.forward(data)\n",
    "            \n",
    "            if Y_test[i] == 0:\n",
    "                x = 'setosa'\n",
    "            elif Y_test[i] == 1:\n",
    "                x = 'versicolor'\n",
    "            else:\n",
    "                x = 'virginica'\n",
    "            \n",
    "            if Y_eval.argmax().item() == 0:\n",
    "                y = 'setosa'\n",
    "            elif Y_eval.argmax().item() == 1:\n",
    "                y = 'versicolor'\n",
    "            else:\n",
    "                y = 'virginica'\n",
    "            \n",
    "            if Y_test[i] == Y_eval.argmax().item():\n",
    "                z = '✅'\n",
    "                correct_guess += 1\n",
    "            else: z = '❌'\n",
    "            print(f'{i+1} \\t {x} \\t {y} \\t {z}')            \n",
    "\n",
    "    print(f'model got {correct_guess}/{len(X_test)} correct')\n",
    "    \n",
    "iris_classifier_multival(X_test)\n"
   ]
  },
  {
   "cell_type": "code",
   "execution_count": 13,
   "metadata": {},
   "outputs": [
    {
     "data": {
      "text/plain": [
       "Model(\n",
       "  (fc1): Linear(in_features=4, out_features=8, bias=True)\n",
       "  (fc2): Linear(in_features=8, out_features=6, bias=True)\n",
       "  (out): Linear(in_features=6, out_features=3, bias=True)\n",
       ")"
      ]
     },
     "execution_count": 13,
     "metadata": {},
     "output_type": "execute_result"
    }
   ],
   "source": [
    "# save model\n",
    "torch.save(model.state_dict(), 'iris_classifier_model.pt')\n",
    "\n",
    "# load model\n",
    "new_iris_model = Model()\n",
    "new_iris_model.load_state_dict(torch.load('iris_classifier_model.pt'))\n",
    "new_iris_model.eval()"
   ]
  },
  {
   "cell_type": "code",
   "execution_count": 7,
   "metadata": {},
   "outputs": [
    {
     "data": {
      "application/vnd.jupyter.widget-view+json": {
       "model_id": "a5dae862e75f494984c1c908e22beb42",
       "version_major": 2,
       "version_minor": 0
      },
      "text/plain": [
       "interactive(children=(FloatSlider(value=5.0, description='sepal.length', max=8.0, min=4.0), FloatSlider(value=…"
      ]
     },
     "metadata": {},
     "output_type": "display_data"
    },
    {
     "data": {
      "text/plain": [
       "<function __main__.update_sliders(sl_val, sw_val, pl_val, pw_val)>"
      ]
     },
     "execution_count": 7,
     "metadata": {},
     "output_type": "execute_result"
    }
   ],
   "source": [
    "def update_sliders(sl_val, sw_val, pl_val, pw_val):\n",
    "    print(f'sepal_length:{sl_val}, sepal_width:{sw_val}, petal_length:{pl_val}, petal_width:{pw_val}')\n",
    "sepal_length = widgets.FloatSlider(value=5,\n",
    "                    min=4,\n",
    "                    max=8,\n",
    "                    step=0.1,\n",
    "                    description='sepal.length',\n",
    "                    orientation='horizontal')\n",
    "\n",
    "sepal_width = widgets.FloatSlider(value=5,\n",
    "                    min=2,\n",
    "                    max=5,\n",
    "                    step=0.1,\n",
    "                    description='sepal.width',\n",
    "                    orientation='horizontal')\n",
    "\n",
    "petal_length = widgets.FloatSlider(value=5,\n",
    "                    min=1,\n",
    "                    max=7,\n",
    "                    step=0.1,\n",
    "                    description='petal.length',\n",
    "                    orientation='horizontal')\n",
    "\n",
    "petal_width = widgets.FloatSlider(value=5,\n",
    "                    min=0.1,\n",
    "                    max=3,\n",
    "                    step=0.1,\n",
    "                    description='petal.width',\n",
    "                    orientation='horizontal')\n",
    "\n",
    "interact(update_sliders, sl_val=sepal_length, sw_val=sepal_width, pl_val=petal_length, pw_val=petal_width)"
   ]
  },
  {
   "cell_type": "code",
   "execution_count": 17,
   "metadata": {},
   "outputs": [
    {
     "name": "stdout",
     "output_type": "stream",
     "text": [
      "your Iris is a setosa type.\n"
     ]
    }
   ],
   "source": [
    "# Loading new data for pridiction\n",
    "def iris_classifier(data):\n",
    "    with torch.no_grad():\n",
    "        predict = new_iris_model(data)\n",
    "        if predict.argmax().item() == 0:\n",
    "            y = 'setosa'\n",
    "        elif predict.argmax().item() == 1:\n",
    "            y = 'versicolor'\n",
    "        else:\n",
    "            y = 'virginica'\n",
    "        print(f'your Iris is a {y} type.')\n",
    "new_iris = torch.tensor([sepal_length.value, sepal_width.value, petal_length.value, petal_width.value])\n",
    "iris_classifier(new_iris)"
   ]
  }
 ],
 "metadata": {
  "kernelspec": {
   "display_name": "base",
   "language": "python",
   "name": "python3"
  },
  "language_info": {
   "codemirror_mode": {
    "name": "ipython",
    "version": 3
   },
   "file_extension": ".py",
   "mimetype": "text/x-python",
   "name": "python",
   "nbconvert_exporter": "python",
   "pygments_lexer": "ipython3",
   "version": "3.11.5"
  }
 },
 "nbformat": 4,
 "nbformat_minor": 2
}
